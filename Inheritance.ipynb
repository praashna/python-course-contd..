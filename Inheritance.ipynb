{
 "cells": [
  {
   "cell_type": "code",
   "execution_count": 1,
   "id": "a4d23d8a",
   "metadata": {},
   "outputs": [],
   "source": [
    "class A:\n",
    "    pass\n",
    "\n",
    "class B(A):\n",
    "    pass\n",
    "\n",
    "obj = B()"
   ]
  },
  {
   "cell_type": "code",
   "execution_count": 3,
   "id": "0a0dc896",
   "metadata": {},
   "outputs": [
    {
     "name": "stdout",
     "output_type": "stream",
     "text": [
      "enter name =Raaaaaaaam\n",
      "enter age 19\n",
      "enter addr PKR\n",
      "Hello!!!! I am Raaaaaaaam. I am from PKR and i am 19\n"
     ]
    }
   ],
   "source": [
    "class Info:\n",
    "    def __init__(self):\n",
    "        self.name = input(\"enter name =\")\n",
    "        self.age = int(input(\"enter age \"))\n",
    "        self.addr = input(\"enter addr \")\n",
    "        \n",
    "class Data(Info):\n",
    "    def data(self):\n",
    "        print(f\"Hello!!!! I am {self.name}. I am from {self.addr} and i am {self.age}\")\n",
    "        \n",
    "obj = Data()\n",
    "obj.data()\n",
    "        \n",
    "    "
   ]
  },
  {
   "cell_type": "code",
   "execution_count": 8,
   "id": "822ae9e7",
   "metadata": {},
   "outputs": [
    {
     "name": "stdout",
     "output_type": "stream",
     "text": [
      "enter name =Max\n",
      "enter age 33\n",
      "enter addr Ktm\n",
      "Hello!!!! I am Max. I am from Ktm and i am 33\n"
     ]
    }
   ],
   "source": [
    "class Info:\n",
    "    def __init__(self,name,age,addr):\n",
    "        self.name =  name\n",
    "        self.age = age\n",
    "        self.addr = addr\n",
    "        \n",
    "        \n",
    "class Data(Info):\n",
    "    def data(self):\n",
    "        print(f\"Hello!!!! I am {self.name}. I am from {self.addr} and i am {self.age}\")\n",
    "        \n",
    "name = input(\"enter name =\")\n",
    "age = int(input(\"enter age \"))\n",
    "addr = input(\"enter addr \")\n",
    "        \n",
    "        \n",
    "obj = Data(name,age,addr)\n",
    "obj.data()\n",
    "        \n",
    "    "
   ]
  },
  {
   "cell_type": "code",
   "execution_count": 10,
   "id": "a320bf13",
   "metadata": {},
   "outputs": [
    {
     "name": "stdout",
     "output_type": "stream",
     "text": [
      "enter name =El\n",
      "enter age 11\n",
      "enter addr Hawkins\n",
      "Hello!!!! I am El. I am from Hawkins and i am 11\n"
     ]
    }
   ],
   "source": [
    "class Info:\n",
    "    def __init__(self,age,addr):\n",
    "        self.age = age\n",
    "        self.addr = addr\n",
    "    \n",
    "    def info(self):\n",
    "        print(self.age,self.addr)\n",
    "        \n",
    "        \n",
    "class Data(Info):\n",
    "    def __init__(self,name,age,addr):\n",
    "        self.name = name\n",
    "        Info.__init__(self,age,addr)\n",
    "        \n",
    "    def data(self):\n",
    "        print(f\"Hello!!!! I am {self.name}. I am from {self.addr} and i am {self.age}\")\n",
    "        \n",
    "name = input(\"enter name =\")\n",
    "age = int(input(\"enter age \"))\n",
    "addr = input(\"enter addr \")\n",
    "        \n",
    "        \n",
    "obj = Data(name,age,addr)\n",
    "obj.data()\n",
    "        \n",
    "    "
   ]
  },
  {
   "cell_type": "code",
   "execution_count": 11,
   "id": "4113eda1",
   "metadata": {},
   "outputs": [],
   "source": [
    "class A:\n",
    "    pass\n",
    "\n",
    "class B(A):\n",
    "    pass\n",
    "\n",
    "class C(B):\n",
    "    pass\n",
    "\n",
    "obj = C()"
   ]
  },
  {
   "cell_type": "code",
   "execution_count": 12,
   "id": "013defec",
   "metadata": {},
   "outputs": [],
   "source": [
    "class A:\n",
    "    pass\n",
    "\n",
    "class B:\n",
    "    pass\n",
    "\n",
    "class C(A,B):\n",
    "    pass\n",
    "\n",
    "obj = C()"
   ]
  },
  {
   "cell_type": "code",
   "execution_count": 1,
   "id": "21fe8947",
   "metadata": {},
   "outputs": [
    {
     "name": "stdout",
     "output_type": "stream",
     "text": [
      "enter name =ram\n",
      "enter age 22\n",
      "enter addr ktm\n",
      "Hello!!!! I am ram. I am from ktm and i am 22\n"
     ]
    }
   ],
   "source": [
    "class Addr:\n",
    "       def __init__(self,addr):\n",
    "        self.addr = addr\n",
    "\n",
    "class Age:\n",
    "    def __init__(self,age,addr):\n",
    "        self.age = age\n",
    "        Addr.__init__(self,addr)\n",
    "        \n",
    "class Data(Age):\n",
    "    def __init__(self,name,age,addr):\n",
    "        self.name = name\n",
    "        Age.__init__(self,age,addr)\n",
    "        \n",
    "    def data(self):\n",
    "        print(f\"Hello!!!! I am {self.name}. I am from {self.addr} and i am {self.age}\")\n",
    "        \n",
    "name = input(\"enter name =\")\n",
    "age = int(input(\"enter age \"))\n",
    "addr = input(\"enter addr \")\n",
    "        \n",
    "        \n",
    "obj = Data(name,age,addr)\n",
    "obj.data()\n",
    "        \n",
    "    "
   ]
  },
  {
   "cell_type": "code",
   "execution_count": 4,
   "id": "a6af43e1",
   "metadata": {},
   "outputs": [
    {
     "name": "stdout",
     "output_type": "stream",
     "text": [
      "enter name =ram\n",
      "enter age 22\n",
      "enter addr ktm\n",
      "Hello!!!! I am ram. I am from ktm and i am 22\n"
     ]
    }
   ],
   "source": [
    "class Addr:\n",
    "       def __init__(self,addr):\n",
    "        self.addr = addr\n",
    "        \n",
    "        def addr(self):\n",
    "            print(self.addr)\n",
    "\n",
    "class Age:\n",
    "    def __init__(self,age):\n",
    "        self.age = age\n",
    "        \n",
    "    def age(self):\n",
    "        print(self.age)\n",
    "        \n",
    "class Data(Addr,Age):\n",
    "    def __init__(self,name,age,addr):\n",
    "        self.name = name\n",
    "        Age.__init__(self,age)\n",
    "        Addr.__init__(self,addr)\n",
    "        \n",
    "        \n",
    "    def data(self):\n",
    "        print(f\"Hello!!!! I am {self.name}. I am from {self.addr} and i am {self.age}\")\n",
    "        \n",
    "name = input(\"enter name =\")\n",
    "age = int(input(\"enter age \"))\n",
    "addr = input(\"enter addr \")\n",
    "        \n",
    "        \n",
    "obj = Data(name,age,addr)\n",
    "obj.data()\n",
    "        \n",
    "    "
   ]
  },
  {
   "cell_type": "code",
   "execution_count": 8,
   "id": "f6201ce7",
   "metadata": {},
   "outputs": [
    {
     "name": "stdout",
     "output_type": "stream",
     "text": [
      "Ram\n",
      "33\n",
      "Bara\n"
     ]
    }
   ],
   "source": [
    "# Public member\n",
    "class Info:\n",
    "    def __init__(self):\n",
    "        self.name =  \"Ram\"\n",
    "        self.age = 33\n",
    "        self.addr = \"Bara\"\n",
    "\n",
    "obj = Info()\n",
    "print(obj.name)\n",
    "print(obj.age)\n",
    "print(obj.addr)"
   ]
  },
  {
   "cell_type": "code",
   "execution_count": 15,
   "id": "e8fcff1b",
   "metadata": {},
   "outputs": [
    {
     "name": "stdout",
     "output_type": "stream",
     "text": [
      "Ram\n",
      "25\n",
      "KTM\n"
     ]
    }
   ],
   "source": [
    "# Protected member\n",
    "class Info:\n",
    "    def __init__(self):\n",
    "        self._name =  \"Ram\"\n",
    "        self._age = 25\n",
    "        self._addr = \"KTM\"\n",
    "\n",
    "obj = Info()\n",
    "print(obj._name)\n",
    "print(obj._age)\n",
    "print(obj._addr)"
   ]
  },
  {
   "cell_type": "code",
   "execution_count": 1,
   "id": "d5159252",
   "metadata": {},
   "outputs": [
    {
     "ename": "AttributeError",
     "evalue": "'Info' object has no attribute '__name'",
     "output_type": "error",
     "traceback": [
      "\u001b[1;31m---------------------------------------------------------------------------\u001b[0m",
      "\u001b[1;31mAttributeError\u001b[0m                            Traceback (most recent call last)",
      "Input \u001b[1;32mIn [1]\u001b[0m, in \u001b[0;36m<cell line: 9>\u001b[1;34m()\u001b[0m\n\u001b[0;32m      6\u001b[0m         \u001b[38;5;28mself\u001b[39m\u001b[38;5;241m.\u001b[39m__addr \u001b[38;5;241m=\u001b[39m \u001b[38;5;124m\"\u001b[39m\u001b[38;5;124mKTM\u001b[39m\u001b[38;5;124m\"\u001b[39m\n\u001b[0;32m      8\u001b[0m obj \u001b[38;5;241m=\u001b[39m Info()\n\u001b[1;32m----> 9\u001b[0m \u001b[38;5;28mprint\u001b[39m(\u001b[43mobj\u001b[49m\u001b[38;5;241;43m.\u001b[39;49m\u001b[43m__name\u001b[49m)\n\u001b[0;32m     10\u001b[0m \u001b[38;5;28mprint\u001b[39m(obj\u001b[38;5;241m.\u001b[39m__age)\n\u001b[0;32m     11\u001b[0m \u001b[38;5;28mprint\u001b[39m(obj\u001b[38;5;241m.\u001b[39m__addr)\n",
      "\u001b[1;31mAttributeError\u001b[0m: 'Info' object has no attribute '__name'"
     ]
    }
   ],
   "source": [
    "# Private member\n",
    "class Info:\n",
    "    def __init__(self):\n",
    "        self.__name =  \"Ram\"\n",
    "        self.__age = 25\n",
    "        self.__addr = \"KTM\"\n",
    "\n",
    "obj = Info()\n",
    "print(obj.__name)\n",
    "print(obj.__age)\n",
    "print(obj.__addr)"
   ]
  },
  {
   "cell_type": "code",
   "execution_count": 10,
   "id": "3c5ec5e1",
   "metadata": {},
   "outputs": [
    {
     "name": "stdout",
     "output_type": "stream",
     "text": [
      "enter name =ram\n",
      "enter age 22\n",
      "enter addr ktm\n",
      "address is ktm\n",
      "Hello!!!! I am ram. I am 22\n"
     ]
    }
   ],
   "source": [
    "class Info:\n",
    "    def __init__(self,name,age,addr):\n",
    "        self.name =  name\n",
    "        self._age = age    #protected\n",
    "        self.__addr = addr  #private: addr cant be used by class Data\n",
    "    \n",
    "    def  info(self):\n",
    "        print(f\"address is {self.__addr}\")\n",
    "        \n",
    "              \n",
    "class Data(Info):\n",
    "    def data(self):\n",
    "        print(f\"Hello!!!! I am {self.name}. I am {self._age}\")\n",
    "        \n",
    "name = input(\"enter name =\")\n",
    "age = int(input(\"enter age \"))\n",
    "addr = input(\"enter addr \")\n",
    "        \n",
    "        \n",
    "obj = Data(name,age,addr)\n",
    "# obj1 = Info(name,age,addr)\n",
    "obj.info()\n",
    "obj.data()\n",
    "        \n",
    "    "
   ]
  },
  {
   "cell_type": "code",
   "execution_count": 12,
   "id": "8f0ec8ab",
   "metadata": {},
   "outputs": [
    {
     "name": "stdout",
     "output_type": "stream",
     "text": [
      "enter name =rrr\n",
      "enter age 22\n",
      "enter addr kkk\n",
      "Hello!!!! I am rrr. I am from kkk and i am 22\n"
     ]
    }
   ],
   "source": [
    "# Super method to call function\n",
    "\n",
    "class Info:\n",
    "    def __init__(self,age,addr):\n",
    "        self.age = age\n",
    "        self.addr = addr\n",
    "    \n",
    "    def info(self):\n",
    "        print(self.age,self.addr)\n",
    "        \n",
    "        \n",
    "class Data(Info):\n",
    "    def __init__(self,name,age,addr):\n",
    "        self.name = name\n",
    "        Info.__init__(self,age,addr)\n",
    "        \n",
    "    def data(self):\n",
    "        print(f\"Hello!!!! I am {self.name}. I am from {self.addr} and i am {self.age}\")\n",
    "        super().info()\n",
    "        \n",
    "name = input(\"enter name =\")\n",
    "age = int(input(\"enter age \"))\n",
    "addr = input(\"enter addr \")\n",
    "        \n",
    "        \n",
    "obj = Data(name,age,addr)\n",
    "obj.data()\n",
    "        \n",
    "    "
   ]
  },
  {
   "cell_type": "code",
   "execution_count": 15,
   "id": "b67df091",
   "metadata": {},
   "outputs": [
    {
     "name": "stdout",
     "output_type": "stream",
     "text": [
      "Ram\n"
     ]
    }
   ],
   "source": [
    "# str() method: to return certain value which  is string\n",
    "class Info:\n",
    "    def __init__(self):\n",
    "        self.name =  \"Ram\"\n",
    "        self.age = 33\n",
    "        self.addr = \"Bara\"\n",
    "        \n",
    "    def __str__(self):\n",
    "        return self.name\n",
    "\n",
    "obj = Info()\n",
    "# print(obj.name)\n",
    "# print(obj.age)\n",
    "# print(obj.addr)\n",
    "\n",
    "print(obj)"
   ]
  },
  {
   "cell_type": "code",
   "execution_count": null,
   "id": "bbf254dd",
   "metadata": {},
   "outputs": [],
   "source": []
  }
 ],
 "metadata": {
  "kernelspec": {
   "display_name": "Python 3 (ipykernel)",
   "language": "python",
   "name": "python3"
  },
  "language_info": {
   "codemirror_mode": {
    "name": "ipython",
    "version": 3
   },
   "file_extension": ".py",
   "mimetype": "text/x-python",
   "name": "python",
   "nbconvert_exporter": "python",
   "pygments_lexer": "ipython3",
   "version": "3.9.12"
  }
 },
 "nbformat": 4,
 "nbformat_minor": 5
}
