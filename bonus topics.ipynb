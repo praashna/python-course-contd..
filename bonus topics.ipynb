{
 "cells": [
  {
   "cell_type": "code",
   "execution_count": 3,
   "id": "f10f3c6b",
   "metadata": {},
   "outputs": [],
   "source": [
    "#list comphrehension"
   ]
  },
  {
   "cell_type": "code",
   "execution_count": 4,
   "id": "3ab14217",
   "metadata": {},
   "outputs": [
    {
     "name": "stdout",
     "output_type": "stream",
     "text": [
      "enter value 11\n",
      "enter value 22\n",
      "enter value 344\n",
      "enter value 5666\n",
      "enter value 777\n",
      "[11, 22, 344, 5666, 777]\n"
     ]
    }
   ],
   "source": [
    "a = list(int(input(\"enter value \")) for i in range(5))\n",
    "print(a)"
   ]
  },
  {
   "cell_type": "code",
   "execution_count": 2,
   "id": "6c6a0074",
   "metadata": {},
   "outputs": [
    {
     "name": "stdout",
     "output_type": "stream",
     "text": [
      "[34, 566]\n"
     ]
    }
   ],
   "source": [
    "data= [21,34,566,87,89,77]\n",
    "a = list(i for i in data if i%2 == 0)  #using list function\n",
    "print(a)"
   ]
  },
  {
   "cell_type": "code",
   "execution_count": 2,
   "id": "ed45bd58",
   "metadata": {},
   "outputs": [
    {
     "data": {
      "text/plain": [
       "['Apple', 'Ball', 'Fish']"
      ]
     },
     "execution_count": 2,
     "metadata": {},
     "output_type": "execute_result"
    }
   ],
   "source": [
    "data = [\"Apple\",\"Ball\",\"cat\",\"dog\",\"Fish\"]\n",
    "a = list(i for i in data if i[0].isupper())\n",
    "a"
   ]
  },
  {
   "cell_type": "code",
   "execution_count": 12,
   "id": "a858aebf",
   "metadata": {},
   "outputs": [
    {
     "data": {
      "text/plain": [
       "{1: 1, 2: 4, 3: 9, 4: 16, 5: 25, 6: 36, 7: 49, 8: 64, 9: 81, 10: 100}"
      ]
     },
     "execution_count": 12,
     "metadata": {},
     "output_type": "execute_result"
    }
   ],
   "source": [
    "data = {i:i**2 for i in range(1,11)}\n",
    "data"
   ]
  },
  {
   "cell_type": "code",
   "execution_count": 5,
   "id": "027cbf1c",
   "metadata": {},
   "outputs": [
    {
     "data": {
      "text/plain": [
       "['apple', 'ball', 'fish']"
      ]
     },
     "execution_count": 5,
     "metadata": {},
     "output_type": "execute_result"
    }
   ],
   "source": [
    "a = ['Apple', 'Ball', 'Fish']\n",
    "data = {i:i.lower() for i in a}\n",
    "list(data.values())"
   ]
  },
  {
   "cell_type": "code",
   "execution_count": 6,
   "id": "d31b147a",
   "metadata": {},
   "outputs": [],
   "source": [
    "# Python Date and Time "
   ]
  },
  {
   "cell_type": "code",
   "execution_count": 14,
   "id": "ca8a95cd",
   "metadata": {},
   "outputs": [
    {
     "name": "stdout",
     "output_type": "stream",
     "text": [
      "2022\n",
      "Sun Dec  4 16:58:04 2022\n"
     ]
    }
   ],
   "source": [
    "import datetime\n",
    "\n",
    "x = datetime.datetime.now()\n",
    "\n",
    "print(x.year)\n",
    "print(x.strftime(\"%c\"))  #c is format for more see in w3school\n"
   ]
  },
  {
   "cell_type": "code",
   "execution_count": 15,
   "id": "37665ab7",
   "metadata": {},
   "outputs": [
    {
     "name": "stdout",
     "output_type": "stream",
     "text": [
      "enter name = Ram\n",
      "0:00:34.452768\n"
     ]
    }
   ],
   "source": [
    "import datetime\n",
    "\n",
    "x = datetime.datetime.now()\n",
    "\n",
    "name = input(\"enter name = \")\n",
    "y = datetime.datetime.now()  #this will show the time taken to execute this code\n",
    "print(y-x)"
   ]
  },
  {
   "cell_type": "code",
   "execution_count": 24,
   "id": "fe689e20",
   "metadata": {},
   "outputs": [
    {
     "data": {
      "text/html": [
       "<div>\n",
       "<style scoped>\n",
       "    .dataframe tbody tr th:only-of-type {\n",
       "        vertical-align: middle;\n",
       "    }\n",
       "\n",
       "    .dataframe tbody tr th {\n",
       "        vertical-align: top;\n",
       "    }\n",
       "\n",
       "    .dataframe thead th {\n",
       "        text-align: right;\n",
       "    }\n",
       "</style>\n",
       "<table border=\"1\" class=\"dataframe\">\n",
       "  <thead>\n",
       "    <tr style=\"text-align: right;\">\n",
       "      <th></th>\n",
       "      <th>1</th>\n",
       "      <th>Unnamed: 1</th>\n",
       "    </tr>\n",
       "  </thead>\n",
       "  <tbody>\n",
       "    <tr>\n",
       "      <th>0</th>\n",
       "      <td>1.0</td>\n",
       "      <td>NaN</td>\n",
       "    </tr>\n",
       "    <tr>\n",
       "      <th>1</th>\n",
       "      <td>2.0</td>\n",
       "      <td>hello</td>\n",
       "    </tr>\n",
       "    <tr>\n",
       "      <th>2</th>\n",
       "      <td>NaN</td>\n",
       "      <td>world</td>\n",
       "    </tr>\n",
       "    <tr>\n",
       "      <th>3</th>\n",
       "      <td>3.0</td>\n",
       "      <td>NaN</td>\n",
       "    </tr>\n",
       "  </tbody>\n",
       "</table>\n",
       "</div>"
      ],
      "text/plain": [
       "     1 Unnamed: 1\n",
       "0  1.0        NaN\n",
       "1  2.0      hello\n",
       "2  NaN      world\n",
       "3  3.0        NaN"
      ]
     },
     "execution_count": 24,
     "metadata": {},
     "output_type": "execute_result"
    }
   ],
   "source": [
    "#to read the excel file\n",
    "import pandas as pd\n",
    "df = pd.read_excel('Book1.xlsx')\n",
    "df"
   ]
  },
  {
   "cell_type": "code",
   "execution_count": 26,
   "id": "b20d8b22",
   "metadata": {},
   "outputs": [
    {
     "data": {
      "text/plain": [
       "['.ipynb_checkpoints',\n",
       " 'bill.csv',\n",
       " 'bill.txt',\n",
       " 'bonus topics.ipynb',\n",
       " 'Book1.xlsx',\n",
       " 'books.csv',\n",
       " 'covid_data.csv',\n",
       " 'data.csv',\n",
       " 'data.txt',\n",
       " 'data10.csv',\n",
       " 'data2.csv',\n",
       " 'database.ipynb',\n",
       " 'File.ipynb',\n",
       " 'Inheritance.ipynb',\n",
       " 'new_data.csv',\n",
       " 'OOP.ipynb',\n",
       " 'Pandas.ipynb',\n",
       " 'SET.ipynb',\n",
       " 'web scraping.ipynb']"
      ]
     },
     "execution_count": 26,
     "metadata": {},
     "output_type": "execute_result"
    }
   ],
   "source": [
    "# os package\n",
    "\n",
    "import os\n",
    "os.listdir()  #shows all the file in this folder"
   ]
  },
  {
   "cell_type": "code",
   "execution_count": 27,
   "id": "4479c774",
   "metadata": {},
   "outputs": [],
   "source": [
    "os.mkdir(\"NEWFOLDER\")  #create new folder"
   ]
  },
  {
   "cell_type": "code",
   "execution_count": 28,
   "id": "df27a907",
   "metadata": {},
   "outputs": [],
   "source": [
    "os.chdir(\"NEWFOLDER\") #to go inside this folder"
   ]
  },
  {
   "cell_type": "code",
   "execution_count": 29,
   "id": "2b745ff0",
   "metadata": {},
   "outputs": [
    {
     "data": {
      "text/plain": [
       "'D:\\\\Python class 4 30 contd\\\\NEWFOLDER'"
      ]
     },
     "execution_count": 29,
     "metadata": {},
     "output_type": "execute_result"
    }
   ],
   "source": [
    "pwd #"
   ]
  },
  {
   "cell_type": "code",
   "execution_count": 30,
   "id": "6b0ff049",
   "metadata": {},
   "outputs": [
    {
     "name": "stdout",
     "output_type": "stream",
     "text": [
      "D:\\Python class 4 30 contd\n"
     ]
    }
   ],
   "source": [
    "cd .."
   ]
  },
  {
   "cell_type": "code",
   "execution_count": 38,
   "id": "9810be56",
   "metadata": {},
   "outputs": [
    {
     "name": "stdout",
     "output_type": "stream",
     "text": [
      "enter n = 3\n",
      "Enter 1 value22\n",
      "22\n",
      "Enter 2 value333\n",
      "333\n",
      "Enter 3 value555\n",
      "555\n"
     ]
    }
   ],
   "source": [
    "n = int(input(\"enter n = \"))\n",
    "for i in range(1,n+1):\n",
    "    x = int(input(f\"Enter {i} value\"))\n",
    "    print(x)"
   ]
  },
  {
   "cell_type": "code",
   "execution_count": 39,
   "id": "3250e2db",
   "metadata": {},
   "outputs": [
    {
     "name": "stdout",
     "output_type": "stream",
     "text": [
      "enter n = 3\n",
      "Enter physics value12\n",
      "12\n",
      "Enter chem value55\n",
      "55\n",
      "Enter maths value6776\n",
      "6776\n"
     ]
    }
   ],
   "source": [
    "sub = ['physics','chem','maths']\n",
    "n = int(input(\"enter n = \"))\n",
    "for i in range(n):\n",
    "    x = int(input(f\"Enter {sub[i]} value\"))\n",
    "    print(x)"
   ]
  },
  {
   "cell_type": "markdown",
   "id": "1aa85a68",
   "metadata": {},
   "source": [
    "# decorators"
   ]
  },
  {
   "cell_type": "code",
   "execution_count": 2,
   "id": "20f9bca8",
   "metadata": {},
   "outputs": [
    {
     "name": "stdout",
     "output_type": "stream",
     "text": [
      "HELLO WORLD\n"
     ]
    }
   ],
   "source": [
    "def outer_function(fun):\n",
    "    \n",
    "    def inner_function():\n",
    "        x = fun()\n",
    "    return inner_function()\n",
    "\n",
    "@outer_function\n",
    "def hello():\n",
    "    print(\"HELLO WORLD\")"
   ]
  },
  {
   "cell_type": "code",
   "execution_count": 4,
   "id": "c21d6fe1",
   "metadata": {},
   "outputs": [
    {
     "data": {
      "text/plain": [
       "'hello world'"
      ]
     },
     "execution_count": 4,
     "metadata": {},
     "output_type": "execute_result"
    }
   ],
   "source": [
    "def strings(func):\n",
    "    def wrapper():\n",
    "        fun = func()\n",
    "        x = fun.lower()\n",
    "        return x\n",
    "    return wrapper\n",
    "\n",
    "@strings\n",
    "def info():\n",
    "    return \"HELLO WORLD\"\n",
    "\n",
    "info()    #this program starts from here "
   ]
  },
  {
   "cell_type": "code",
   "execution_count": 5,
   "id": "cd5df1a9",
   "metadata": {},
   "outputs": [
    {
     "data": {
      "text/plain": [
       "['hello', 'world']"
      ]
     },
     "execution_count": 5,
     "metadata": {},
     "output_type": "execute_result"
    }
   ],
   "source": [
    "def strings(function):\n",
    "    def wrapper():\n",
    "        fun = function()\n",
    "        x = fun.lower()\n",
    "        return x\n",
    "    return wrapper\n",
    "\n",
    "def split_strings(function):\n",
    "    def wrappe():\n",
    "        fun =function()\n",
    "        y = fun.split()\n",
    "        return y\n",
    "    return wrappe\n",
    "\n",
    "@split_strings\n",
    "@strings    #this decorator execute first then goes upwards @split_strings\n",
    "def info():\n",
    "    return \"HELLO WORLD\"\n",
    "\n",
    "info()    #this program starts from here "
   ]
  },
  {
   "cell_type": "code",
   "execution_count": null,
   "id": "4f699716",
   "metadata": {},
   "outputs": [],
   "source": [
    "# trello"
   ]
  },
  {
   "cell_type": "code",
   "execution_count": null,
   "id": "83aa30c9",
   "metadata": {},
   "outputs": [],
   "source": []
  }
 ],
 "metadata": {
  "kernelspec": {
   "display_name": "Python 3 (ipykernel)",
   "language": "python",
   "name": "python3"
  },
  "language_info": {
   "codemirror_mode": {
    "name": "ipython",
    "version": 3
   },
   "file_extension": ".py",
   "mimetype": "text/x-python",
   "name": "python",
   "nbconvert_exporter": "python",
   "pygments_lexer": "ipython3",
   "version": "3.9.12"
  }
 },
 "nbformat": 4,
 "nbformat_minor": 5
}
