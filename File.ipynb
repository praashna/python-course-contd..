{
 "cells": [
  {
   "cell_type": "code",
   "execution_count": null,
   "id": "03ec10d7",
   "metadata": {},
   "outputs": [],
   "source": [
    "# b = open('<file name>','<mode>')\n",
    "# b.close()\n",
    "\n",
    "# with open('file name>','<mode>') as f:\n",
    "#     <operation>\n",
    "\n",
    "#Modes\n",
    "# r= read\n",
    "# x= create\n",
    "# w =write\n",
    "# x=append"
   ]
  },
  {
   "cell_type": "code",
   "execution_count": 4,
   "id": "cb2bc6af",
   "metadata": {},
   "outputs": [
    {
     "name": "stdout",
     "output_type": "stream",
     "text": [
      "The file is already there\n"
     ]
    }
   ],
   "source": [
    "try:\n",
    "    b = open('data.txt','x')\n",
    "    b.close()\n",
    "except:\n",
    "    print(\"The file is already there\")"
   ]
  },
  {
   "cell_type": "code",
   "execution_count": 6,
   "id": "56599ce7",
   "metadata": {},
   "outputs": [
    {
     "name": "stdout",
     "output_type": "stream",
     "text": [
      "1.Hello World\n",
      "2.Hello World\n",
      "3.Hello World\n",
      "4.Hello World\n",
      "5.Hello World\n",
      "\n",
      "<class 'str'>\n"
     ]
    }
   ],
   "source": [
    "file = open('data.txt','r')\n",
    "x = file.read()\n",
    "print(x)\n",
    "print(type(x))\n",
    "\n",
    "file.close()"
   ]
  },
  {
   "cell_type": "code",
   "execution_count": 7,
   "id": "5f9ac588",
   "metadata": {},
   "outputs": [
    {
     "name": "stdout",
     "output_type": "stream",
     "text": [
      "enter line no = 2\n",
      "2.Hello World\n"
     ]
    }
   ],
   "source": [
    "data = x.split('\\n')\n",
    "line_no = int(input(\"enter line no = \"))\n",
    "print(data[line_no - 1])"
   ]
  },
  {
   "cell_type": "code",
   "execution_count": 8,
   "id": "a86d8f05",
   "metadata": {},
   "outputs": [
    {
     "name": "stdout",
     "output_type": "stream",
     "text": [
      "1.Hello World\n",
      "\n"
     ]
    }
   ],
   "source": [
    "file = open('data.txt','r')\n",
    "x = file.readline()  #readline will read only the first line\n",
    "print(x)\n",
    "\n",
    "file.close()"
   ]
  },
  {
   "cell_type": "code",
   "execution_count": 9,
   "id": "94c6414f",
   "metadata": {},
   "outputs": [
    {
     "name": "stdout",
     "output_type": "stream",
     "text": [
      "1.Hello World\n",
      "2.Hell\n"
     ]
    }
   ],
   "source": [
    "file = open('data.txt','r')\n",
    "x = file.read(20)   #read(20) will read only the 20 char\n",
    "print(x)\n",
    "\n",
    "file.close()"
   ]
  },
  {
   "cell_type": "code",
   "execution_count": 12,
   "id": "c3c93ea5",
   "metadata": {},
   "outputs": [
    {
     "name": "stdout",
     "output_type": "stream",
     "text": [
      "enter some text helllooooooooooo\n"
     ]
    }
   ],
   "source": [
    "inp = input(\"enter some text \")\n",
    "\n",
    "file = open('data.txt','w')\n",
    "file.write(inp)\n",
    "file.close()"
   ]
  },
  {
   "cell_type": "code",
   "execution_count": 1,
   "id": "c640fbe4",
   "metadata": {},
   "outputs": [
    {
     "name": "stdout",
     "output_type": "stream",
     "text": [
      "enter value n 2\n",
      "enter name :aaa\n",
      "enter price:200\n",
      "enter quantity:2\n",
      "enter name :fff\n",
      "enter price:444\n",
      "enter quantity:3\n",
      "all total : 1732\n",
      "name of product is aaa, price is 200, quantity is 2, Total is 400 \n",
      "name of product is fff, price is 444, quantity is 3, Total is 1332 \n",
      "\n",
      "enter some text hh\n"
     ]
    }
   ],
   "source": [
    "s = 0\n",
    "bill = str()\n",
    "n = int(input(\"enter value n \"))\n",
    "for i in range (n):\n",
    "    name = input(\"enter name :\")\n",
    "    price = int(input(\"enter price:\"))\n",
    "    quantity = int(input(\"enter quantity:\"))\n",
    "    total = price*quantity\n",
    "    bill = bill + f\"name of product is {name}\\tprice is {price}\\tquantity is {quantity}.\\tTotal is {total} \\n\"\n",
    "    s = s+total\n",
    "\n",
    "print(\"all total :\",s)\n",
    "print(bill)\n",
    "\n",
    "# write\n",
    "file = open('bill.txt','w')\n",
    "file.write(bill)\n",
    "file.close()\n",
    "\n",
    "inp = input(\"enter some text \")\n",
    "\n",
    "# append\n",
    "file = open('bill.txt','a')\n",
    "file.write(inp)\n",
    "file.close()"
   ]
  },
  {
   "cell_type": "code",
   "execution_count": null,
   "id": "63a50885",
   "metadata": {},
   "outputs": [],
   "source": [
    "pwd"
   ]
  },
  {
   "cell_type": "code",
   "execution_count": 4,
   "id": "50e9bb2f",
   "metadata": {},
   "outputs": [
    {
     "name": "stdout",
     "output_type": "stream",
     "text": [
      "enter value n 4\n",
      "enter name :a\n",
      "enter price:200\n",
      "enter quantity:2\n",
      "enter name :b\n",
      "enter price:300\n",
      "enter quantity:3\n",
      "enter name :c\n",
      "enter price:300000\n",
      "enter quantity:40\n",
      "enter name :d\n",
      "enter price:4000\n",
      "enter quantity:333\n",
      "all total : 13333300\n",
      "a,200,2,400 \n",
      "b,300,3,900 \n",
      "c,300000,40,12000000 \n",
      "d,4000,333,1332000 \n",
      "\n"
     ]
    }
   ],
   "source": [
    "s = 0\n",
    "bill = str()\n",
    "n = int(input(\"enter value n \"))\n",
    "for i in range (n):\n",
    "    name = input(\"enter name :\")\n",
    "    price = int(input(\"enter price:\"))\n",
    "    quantity = int(input(\"enter quantity:\"))\n",
    "    total = price*quantity\n",
    "    bill = bill + f\"{name},{price},{quantity},{total} \\n\"\n",
    "    s = s+total\n",
    "\n",
    "print(\"all total :\",s)\n",
    "print(bill)\n",
    "\n",
    "file = open('bill.csv','w')\n",
    "file.write('Name,Price,quantity,Total\\n')\n",
    "file.write(bill)\n",
    "file.close()\n"
   ]
  },
  {
   "cell_type": "code",
   "execution_count": null,
   "id": "97a0dcc1",
   "metadata": {},
   "outputs": [],
   "source": []
  }
 ],
 "metadata": {
  "kernelspec": {
   "display_name": "Python 3 (ipykernel)",
   "language": "python",
   "name": "python3"
  },
  "language_info": {
   "codemirror_mode": {
    "name": "ipython",
    "version": 3
   },
   "file_extension": ".py",
   "mimetype": "text/x-python",
   "name": "python",
   "nbconvert_exporter": "python",
   "pygments_lexer": "ipython3",
   "version": "3.9.12"
  }
 },
 "nbformat": 4,
 "nbformat_minor": 5
}
