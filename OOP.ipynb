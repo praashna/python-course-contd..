{
 "cells": [
  {
   "cell_type": "code",
   "execution_count": 1,
   "id": "ed966e12",
   "metadata": {},
   "outputs": [
    {
     "name": "stdout",
     "output_type": "stream",
     "text": [
      "Hello world\n"
     ]
    }
   ],
   "source": [
    "class Hello:\n",
    "    print(\"Hello world\")  \n",
    "    \n",
    "obj = Hello()  #obj initialize that class"
   ]
  },
  {
   "cell_type": "code",
   "execution_count": 8,
   "id": "fa24f85e",
   "metadata": {},
   "outputs": [
    {
     "ename": "TypeError",
     "evalue": "world() takes 0 positional arguments but 1 was given",
     "output_type": "error",
     "traceback": [
      "\u001b[1;31m---------------------------------------------------------------------------\u001b[0m",
      "\u001b[1;31mTypeError\u001b[0m                                 Traceback (most recent call last)",
      "Input \u001b[1;32mIn [8]\u001b[0m, in \u001b[0;36m<cell line: 6>\u001b[1;34m()\u001b[0m\n\u001b[0;32m      3\u001b[0m         \u001b[38;5;28mprint\u001b[39m(\u001b[38;5;124m\"\u001b[39m\u001b[38;5;124mHello world\u001b[39m\u001b[38;5;124m\"\u001b[39m)\n\u001b[0;32m      5\u001b[0m obj \u001b[38;5;241m=\u001b[39m Hello()\n\u001b[1;32m----> 6\u001b[0m \u001b[43mobj\u001b[49m\u001b[38;5;241;43m.\u001b[39;49m\u001b[43mworld\u001b[49m\u001b[43m(\u001b[49m\u001b[43m)\u001b[49m\n",
      "\u001b[1;31mTypeError\u001b[0m: world() takes 0 positional arguments but 1 was given"
     ]
    }
   ],
   "source": [
    "class Hello:\n",
    "    def world():   #method is same as function but defined inside the class\n",
    "        print(\"Hello world\")\n",
    "\n",
    "obj = Hello()\n",
    "obj.world()\n",
    "\n",
    "# we have to write <<self>> or <<@staticmethod>> to run this code"
   ]
  },
  {
   "cell_type": "code",
   "execution_count": 5,
   "id": "bf8d8e54",
   "metadata": {},
   "outputs": [
    {
     "name": "stdout",
     "output_type": "stream",
     "text": [
      "Hello world\n"
     ]
    }
   ],
   "source": [
    "class Hello:\n",
    "    def world(self):   #method is same as function but defined inside the class\n",
    "        print(\"Hello world\")\n",
    "\n",
    "obj = Hello()\n",
    "obj.world()\n",
    "\n",
    "#execution takes place from buttom to top\n",
    "\n",
    "#we have to write <<<self>> or any thing rather then self but self is standard"
   ]
  },
  {
   "cell_type": "code",
   "execution_count": 7,
   "id": "974a5ecc",
   "metadata": {},
   "outputs": [
    {
     "name": "stdout",
     "output_type": "stream",
     "text": [
      "Hello world\n"
     ]
    }
   ],
   "source": [
    "class Hello:\n",
    "    @staticmethod\n",
    "    def world():   \n",
    "        print(\"Hello world\")\n",
    "\n",
    "obj = Hello()\n",
    "obj.world()\n"
   ]
  },
  {
   "cell_type": "code",
   "execution_count": 9,
   "id": "a8b4c65e",
   "metadata": {},
   "outputs": [
    {
     "name": "stdout",
     "output_type": "stream",
     "text": [
      "20\n"
     ]
    }
   ],
   "source": [
    "class Cal:\n",
    "    def area(self):\n",
    "        l = 10\n",
    "        b = 2\n",
    "        a = l*b\n",
    "        print(a)\n",
    "        \n",
    "obj = Cal()\n",
    "obj.area()\n",
    "        "
   ]
  },
  {
   "cell_type": "code",
   "execution_count": 11,
   "id": "bdbbf6e7",
   "metadata": {},
   "outputs": [
    {
     "name": "stdout",
     "output_type": "stream",
     "text": [
      "20\n",
      "80\n"
     ]
    }
   ],
   "source": [
    "class Cal:\n",
    "    def area(self):\n",
    "        l = 10\n",
    "        b = 2\n",
    "        a = l*b\n",
    "        print(a)\n",
    "        \n",
    "    def volume(self):\n",
    "        l = 10\n",
    "        b = 2\n",
    "        h = 4\n",
    "        v = l*b*h\n",
    "        print(v)\n",
    "        \n",
    "obj = Cal()\n",
    "obj.area()\n",
    "obj.volume()\n",
    "        "
   ]
  },
  {
   "cell_type": "code",
   "execution_count": 14,
   "id": "9768f84b",
   "metadata": {},
   "outputs": [
    {
     "name": "stdout",
     "output_type": "stream",
     "text": [
      "enter l 10\n",
      "enter b 2\n",
      "enter h 2\n",
      "20\n",
      "40\n"
     ]
    }
   ],
   "source": [
    "class Cal:\n",
    "    def area(self,l,b):\n",
    "        a = l*b\n",
    "        print(a)\n",
    "        \n",
    "    def volume(self,l,b,h):\n",
    "        v = l*b*h\n",
    "        print(v)\n",
    "        \n",
    "l = int(input(\"enter l \"))\n",
    "b = int(input(\"enter b \"))\n",
    "h = int(input(\"enter h \"))\n",
    "\n",
    "        \n",
    "obj = Cal()\n",
    "obj.area(l,b)\n",
    "obj.volume(l,b,h)\n",
    "        "
   ]
  },
  {
   "cell_type": "code",
   "execution_count": 17,
   "id": "ce1e42e1",
   "metadata": {},
   "outputs": [
    {
     "name": "stdout",
     "output_type": "stream",
     "text": [
      "enter l 10\n",
      "enter b 2\n",
      "enter h 2\n",
      "20\n",
      "40\n"
     ]
    }
   ],
   "source": [
    "class Area:\n",
    "    def area(self,l,b):\n",
    "        a = l*b\n",
    "        print(a)\n",
    "\n",
    "class Volume:\n",
    "    def volume(self,l,b,h):\n",
    "        v = l*b*h\n",
    "        print(v)\n",
    "        \n",
    "l = int(input(\"enter l \"))\n",
    "b = int(input(\"enter b \"))\n",
    "h = int(input(\"enter h \"))\n",
    "\n",
    "        \n",
    "obj = Area()    #for more than one class we need to define chuttai object\n",
    "obj1 = Volume()\n",
    "obj.area(l,b)\n",
    "obj1.volume(l,b,h)\n",
    "        "
   ]
  },
  {
   "cell_type": "code",
   "execution_count": 21,
   "id": "5dd576e5",
   "metadata": {},
   "outputs": [
    {
     "name": "stdout",
     "output_type": "stream",
     "text": [
      "enter l 100\n",
      "enter b 2\n",
      "enter h 2\n",
      "200\n",
      "400\n"
     ]
    }
   ],
   "source": [
    "class Cal:\n",
    "    def __init__(self,l,b,h):   #self is called construtor\n",
    "        self.len = l\n",
    "        self.b = b\n",
    "        self.h = h\n",
    "         \n",
    "    def area(self):\n",
    "        a = self.len*self.b\n",
    "        print(a)\n",
    "        \n",
    "    def volume(self):\n",
    "        v = self.len*self.b*self.h\n",
    "        print(v)\n",
    "        \n",
    "l = int(input(\"enter l \"))\n",
    "b = int(input(\"enter b \"))\n",
    "h = int(input(\"enter h \"))\n",
    "\n",
    "        \n",
    "obj = Cal(l,b,h)  #while writing argument here we dont need to write method call garda\n",
    "obj.area()        #also we have to reinitilize using __init__\n",
    "obj.volume()\n",
    "        "
   ]
  },
  {
   "cell_type": "code",
   "execution_count": 22,
   "id": "649fef07",
   "metadata": {},
   "outputs": [
    {
     "name": "stdout",
     "output_type": "stream",
     "text": [
      "enter l 20\n",
      "enter b 22\n",
      "enter h 2\n",
      "20\n",
      "880\n"
     ]
    }
   ],
   "source": [
    "# Hybrid by using both the self and @staticmethod\n",
    "\n",
    "class Cal:\n",
    "    def __init__(self,l,b,h):   #self is called construtor\n",
    "        self.len = l\n",
    "        self.b = b\n",
    "        self.h = h\n",
    "        \n",
    "    @staticmethod \n",
    "    def area(l,b):\n",
    "        a = l*b\n",
    "        print(a)\n",
    "        \n",
    "    def volume(self):\n",
    "        v = self.len*self.b*self.h\n",
    "        print(v)\n",
    "        \n",
    "l = int(input(\"enter l \"))\n",
    "b = int(input(\"enter b \"))\n",
    "h = int(input(\"enter h \"))\n",
    "\n",
    "        \n",
    "obj = Cal(l,b,h)  #while writing argument here we dont need to write method call garda\n",
    "obj.area(10,2)        #also we have to reinitilize using __init__\n",
    "obj.volume()\n",
    "        "
   ]
  },
  {
   "cell_type": "code",
   "execution_count": 25,
   "id": "acc29e15",
   "metadata": {},
   "outputs": [
    {
     "name": "stdout",
     "output_type": "stream",
     "text": [
      "Enter name Eva\n",
      "Enter age 22\n",
      "Enter addr ktm\n",
      "Hello world i am Eva. I am from ktm and i am 22 years.\n",
      "Eva\n",
      "ktm\n"
     ]
    }
   ],
   "source": [
    "class Info:\n",
    "    def __init__(self,name,age,addr):\n",
    "        self.name = name\n",
    "        self.age = age\n",
    "        self.addr = addr\n",
    "        \n",
    "    def info(self):\n",
    "        return f\"Hello world i am {self.name}. I am from {self.addr} and i am {self.age} years.\"\n",
    "    \n",
    "name = input(\"Enter name \")\n",
    "age = input(\"Enter age \")\n",
    "addr = input(\"Enter addr \")\n",
    "\n",
    "obj = Info(name,age,addr)\n",
    "print(obj.info())\n",
    "\n",
    "print(obj.name)\n",
    "print(obj.addr)"
   ]
  },
  {
   "cell_type": "code",
   "execution_count": null,
   "id": "e231570e",
   "metadata": {},
   "outputs": [],
   "source": []
  }
 ],
 "metadata": {
  "kernelspec": {
   "display_name": "Python 3 (ipykernel)",
   "language": "python",
   "name": "python3"
  },
  "language_info": {
   "codemirror_mode": {
    "name": "ipython",
    "version": 3
   },
   "file_extension": ".py",
   "mimetype": "text/x-python",
   "name": "python",
   "nbconvert_exporter": "python",
   "pygments_lexer": "ipython3",
   "version": "3.9.12"
  }
 },
 "nbformat": 4,
 "nbformat_minor": 5
}
